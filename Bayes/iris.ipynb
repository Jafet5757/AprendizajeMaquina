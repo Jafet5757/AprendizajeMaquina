{
 "cells": [
  {
   "cell_type": "code",
   "execution_count": 1,
   "metadata": {},
   "outputs": [
    {
     "name": "stdout",
     "output_type": "stream",
     "text": [
      "+---------------+---------+--------------------+\n",
      "|  Clasificador | Pliegue |      Accuracy      |\n",
      "+---------------+---------+--------------------+\n",
      "|   GaussianNB  |    0    | 0.8571428571428571 |\n",
      "|   GaussianNB  |    1    | 0.9523809523809523 |\n",
      "|   GaussianNB  |    2    |        1.0         |\n",
      "|   GaussianNB  |    3    |        1.0         |\n",
      "|   GaussianNB  |    4    | 0.9047619047619048 |\n",
      "|   GaussianNB  |  Media  | 0.9428571428571428 |\n",
      "|               |         |                    |\n",
      "| MultinomialNB |    0    | 0.5714285714285714 |\n",
      "| MultinomialNB |    1    | 0.7142857142857143 |\n",
      "| MultinomialNB |    2    | 0.9523809523809523 |\n",
      "| MultinomialNB |    3    | 0.6666666666666666 |\n",
      "| MultinomialNB |    4    | 0.5714285714285714 |\n",
      "| MultinomialNB |  Media  | 0.6952380952380952 |\n",
      "+---------------+---------+--------------------+\n"
     ]
    }
   ],
   "source": [
    "from sklearn.model_selection import KFold\n",
    "from sklearn.naive_bayes import GaussianNB\n",
    "from sklearn.naive_bayes import MultinomialNB\n",
    "from sklearn.metrics import accuracy_score\n",
    "from sklearn.model_selection import train_test_split\n",
    "from prettytable import PrettyTable\n",
    "import pandas as pd\n",
    "\n",
    "# Leemos el dataset\n",
    "df = pd.read_csv('iris.csv')\n",
    "\n",
    "# mezclamos los datos y seleccionamos el 70% para entrenamiento y el 30% para test\n",
    "train, test = train_test_split(df, test_size=0.3, random_state=0)\n",
    "\n",
    "# Generamos conjuntos de validación cruzada con k = 5\n",
    "kf = KFold(n_splits=5)\n",
    "\n",
    "# Inicializamos los clasificadores\n",
    "gnb = GaussianNB()\n",
    "mnb = MultinomialNB()\n",
    "\n",
    "# Inicializamos las listas para guardar los resultados\n",
    "gnb_scores = []\n",
    "mnb_scores = []\n",
    "\n",
    "# Iteramos sobre los conjuntos de validación cruzada\n",
    "for train_index, test_index in kf.split(train):\n",
    "    # Dividimos los datos en entrenamiento y test\n",
    "    train_data = train.iloc[train_index]\n",
    "    test_data = train.iloc[test_index]\n",
    "\n",
    "    # Entrenamos los clasificadores\n",
    "    gnb.fit(train_data[['sepal_length', 'sepal_width', 'petal_length', 'petal_width']], train_data['species'])\n",
    "    mnb.fit(train_data[['sepal_length', 'sepal_width', 'petal_length', 'petal_width']], train_data['species'])\n",
    "\n",
    "    # Predecimos los datos de test\n",
    "    gnb_pred = gnb.predict(test_data[['sepal_length', 'sepal_width', 'petal_length', 'petal_width']])\n",
    "    mnb_pred = mnb.predict(test_data[['sepal_length', 'sepal_width', 'petal_length', 'petal_width']])\n",
    "\n",
    "    # Calculamos la precisión de los clasificadores\n",
    "    gnb_scores.append(accuracy_score(test_data['species'], gnb_pred))\n",
    "    mnb_scores.append(accuracy_score(test_data['species'], mnb_pred))\n",
    "\n",
    "# Calculamos la precisión media de los clasificadores\n",
    "gnb_mean = sum(gnb_scores) / len(gnb_scores)\n",
    "mnb_mean = sum(mnb_scores) / len(mnb_scores)\n",
    "\n",
    "# Mostramos los resultados en una tabla\n",
    "table = PrettyTable()\n",
    "table.field_names = ['Clasificador', 'Pliegue', 'Accuracy']\n",
    "for i in range(5):\n",
    "    table.add_row(['GaussianNB', i, gnb_scores[i]])\n",
    "table.add_row(['GaussianNB', 'Media', gnb_mean])\n",
    "\n",
    "table.add_row(['', '', ''])\n",
    "for i in range(5):\n",
    "    table.add_row(['MultinomialNB', i, mnb_scores[i]])\n",
    "table.add_row(['MultinomialNB', 'Media', mnb_mean])\n",
    "\n",
    "print(table) "
   ]
  },
  {
   "cell_type": "code",
   "execution_count": 2,
   "metadata": {},
   "outputs": [
    {
     "name": "stdout",
     "output_type": "stream",
     "text": [
      "                 precision    recall  f1-score   support\n",
      "\n",
      "    Iris-setosa       1.00      1.00      1.00        16\n",
      "Iris-versicolor       1.00      1.00      1.00        18\n",
      " Iris-virginica       1.00      1.00      1.00        11\n",
      "\n",
      "       accuracy                           1.00        45\n",
      "      macro avg       1.00      1.00      1.00        45\n",
      "   weighted avg       1.00      1.00      1.00        45\n",
      "\n"
     ]
    },
    {
     "data": {
      "image/png": "[encoded data removed]",
      "text/plain": [
       "<Figure size 640x480 with 2 Axes>"
      ]
     },
     "metadata": {},
     "output_type": "display_data"
    }
   ],
   "source": [
    "from sklearn.metrics import classification_report\n",
    "from sklearn.metrics import confusion_matrix\n",
    "from sklearn.metrics import ConfusionMatrixDisplay\n",
    "import matplotlib.pyplot as plt\n",
    "\n",
    "# Obtenemos la matriz de confusión de gaussianNB\n",
    "train_data = train\n",
    "test_data = test\n",
    "\n",
    "gnb.fit(train_data[['sepal_length', 'sepal_width', 'petal_length', 'petal_width']], train_data['species'])\n",
    "\n",
    "gnb_pred = gnb.predict(test_data[['sepal_length', 'sepal_width', 'petal_length', 'petal_width']])\n",
    "\n",
    "print(classification_report(test_data['species'], gnb_pred))\n",
    "\n",
    "cm = confusion_matrix(test_data['species'], gnb_pred)\n",
    "disp = ConfusionMatrixDisplay(confusion_matrix=cm, display_labels=gnb.classes_)\n",
    "disp.plot()\n",
    "plt.show()"
   ]
  },
  {
   "cell_type": "code",
   "execution_count": 3,
   "metadata": {},
   "outputs": [
    {
     "name": "stdout",
     "output_type": "stream",
     "text": [
      "+--------------+----------+--------------+\n",
      "| Clasificador | Accuracy | Distribución |\n",
      "+--------------+----------+--------------+\n",
      "|  GaussianNB  |   1.0    |    Normal    |\n",
      "+--------------+----------+--------------+\n"
     ]
    }
   ],
   "source": [
    "# Calculamos el accuracy y lo mostramos en una tabla junto con el tipo de distribucion\n",
    "accuaracy = accuracy_score(test_data['species'], gnb_pred)\n",
    "table = PrettyTable()\n",
    "\n",
    "table.field_names = ['Clasificador', 'Accuracy', 'Distribución']\n",
    "table.add_row(['GaussianNB', accuaracy, 'Normal'])\n",
    "\n",
    "print(table)"
   ]
  },
  {
   "cell_type": "markdown",
   "metadata": {},
   "source": [
    "# Vecinos cercanos"
   ]
  },
  {
   "cell_type": "code",
   "execution_count": 4,
   "metadata": {},
   "outputs": [
    {
     "name": "stdout",
     "output_type": "stream",
     "text": [
      "+---------+----------+----------+--------------------+\n",
      "| Vecinos |  Pesos   | Pliegue  |      Accuracy      |\n",
      "+---------+----------+----------+--------------------+\n",
      "|    1    | uniform  |    1     | 0.8571428571428571 |\n",
      "|    1    | uniform  |    2     |        1.0         |\n",
      "|    1    | uniform  |    3     | 0.9428571428571428 |\n",
      "|         |          | Promedio | 0.9333333333333332 |\n",
      "|    -    |    -     |    -     |         -          |\n",
      "|    10   | uniform  |    1     | 0.9142857142857143 |\n",
      "|    10   | uniform  |    2     |        1.0         |\n",
      "|    10   | uniform  |    3     | 0.9142857142857143 |\n",
      "|         |          | Promedio | 0.9428571428571427 |\n",
      "|    -    |    -     |    -     |         -          |\n",
      "|    10   | distance |    1     | 0.9142857142857143 |\n",
      "|    10   | distance |    2     |        1.0         |\n",
      "|    10   | distance |    3     | 0.9142857142857143 |\n",
      "|         |          | Promedio | 0.9428571428571427 |\n",
      "+---------+----------+----------+--------------------+\n"
     ]
    }
   ],
   "source": [
    "from sklearn.model_selection import train_test_split\n",
    "from sklearn.neighbors import KNeighborsClassifier\n",
    "from sklearn.metrics import accuracy_score\n",
    "from sklearn.model_selection import KFold\n",
    "import pandas as pd\n",
    "\n",
    "# cargamos los datos\n",
    "df = pd.read_csv('iris.csv')\n",
    "\n",
    "# mezclamos los datos y separamos 70% para entrenar y 30% para test\n",
    "train, test = train_test_split(df, test_size=0.3, random_state=0)\n",
    "\n",
    "# generamos conjuntos de validacion cruzada con k=3\n",
    "kf = KFold(n_splits=3)\n",
    "\n",
    "# inicializamos el clasificador\n",
    "knn_uniform = KNeighborsClassifier(n_neighbors=10, weights='uniform')\n",
    "knn_distance = KNeighborsClassifier(n_neighbors=10, weights='distance')\n",
    "knn_one = KNeighborsClassifier(n_neighbors=1)\n",
    "\n",
    "# registros de accuracy\n",
    "accuracy_uniform = []\n",
    "accuracy_distance = []\n",
    "accuracy_one = []\n",
    "\n",
    "# entrenamos y evaluamos el clasificador por cada pliegue\n",
    "for train_index, test_index in kf.split(train):\n",
    "    train_fold, test_fold = train.iloc[train_index], train.iloc[test_index]\n",
    "    knn_uniform.fit(train_fold[['sepal_length', 'sepal_width', 'petal_length', 'petal_width']], train_fold['species'])\n",
    "    knn_distance.fit(train_fold[['sepal_length', 'sepal_width', 'petal_length', 'petal_width']], train_fold['species'])\n",
    "    knn_one.fit(train_fold[['sepal_length', 'sepal_width', 'petal_length', 'petal_width']], train_fold['species'])\n",
    "    accuracy_uniform.append(accuracy_score(test_fold['species'], knn_uniform.predict(test_fold[['sepal_length', 'sepal_width', 'petal_length', 'petal_width']]), normalize=True))\n",
    "    accuracy_distance.append(accuracy_score(test_fold['species'], knn_distance.predict(test_fold[['sepal_length', 'sepal_width', 'petal_length', 'petal_width']]), normalize=True))\n",
    "    accuracy_one.append(accuracy_score(test_fold['species'], knn_one.predict(test_fold[['sepal_length', 'sepal_width', 'petal_length', 'petal_width']]), normalize=True))\n",
    "    \n",
    "\n",
    "# calculamos el promedio de los accuracy\n",
    "average_uniform = sum(accuracy_uniform) / len(accuracy_uniform)\n",
    "average_distance = sum(accuracy_distance) / len(accuracy_distance)\n",
    "average_one = sum(accuracy_one) / len(accuracy_one)\n",
    "\n",
    "# mostramos en un tabla los resultados\n",
    "from prettytable import PrettyTable\n",
    "\n",
    "table = PrettyTable()\n",
    "table.field_names = ['Vecinos', 'Pesos', 'Pliegue', 'Accuracy']\n",
    "for i in range(len(accuracy_one)):\n",
    "    table.add_row([1, 'uniform', i+1, accuracy_one[i]])\n",
    "table.add_row(['', '', 'Promedio', average_one])\n",
    "\n",
    "table.add_row(['-', '-', '-', '-'])\n",
    "\n",
    "for i in range(len(accuracy_uniform)):\n",
    "    table.add_row([10, 'uniform', i+1, accuracy_uniform[i]])\n",
    "table.add_row(['', '', 'Promedio', average_uniform])\n",
    "\n",
    "table.add_row(['-', '-', '-', '-'])\n",
    "\n",
    "for i in range(len(accuracy_distance)):\n",
    "    table.add_row([10, 'distance', i+1, accuracy_distance[i]])\n",
    "table.add_row(['', '', 'Promedio', average_distance])\n",
    "\n",
    "print(table)"
   ]
  },
  {
   "cell_type": "markdown",
   "metadata": {},
   "source": [
    "Resultados de pruebas finales de ambos algoritmos"
   ]
  },
  {
   "cell_type": "code",
   "execution_count": 7,
   "metadata": {},
   "outputs": [
    {
     "name": "stdout",
     "output_type": "stream",
     "text": [
      "                 precision    recall  f1-score   support\n",
      "\n",
      "    Iris-setosa       1.00      1.00      1.00        16\n",
      "Iris-versicolor       1.00      0.94      0.97        18\n",
      " Iris-virginica       0.92      1.00      0.96        11\n",
      "\n",
      "       accuracy                           0.98        45\n",
      "      macro avg       0.97      0.98      0.98        45\n",
      "   weighted avg       0.98      0.98      0.98        45\n",
      "\n"
     ]
    },
    {
     "data": {
      "image/png": "[encoded data removed]",
      "text/plain": [
       "<Figure size 640x480 with 2 Axes>"
      ]
     },
     "metadata": {},
     "output_type": "display_data"
    },
    {
     "name": "stdout",
     "output_type": "stream",
     "text": [
      "+--------------+---------+---------+----------------------+--------------------+\n",
      "| Clasificador | Vecinos |  Pesos  |     Distribucion     |      Accuracy      |\n",
      "+--------------+---------+---------+----------------------+--------------------+\n",
      "| Naive Bayes  |    -    |    -    |      GaussianNB      |        1.0         |\n",
      "|     KNN      |    10   | uniform | KNeighborsClassifier | 0.9777777777777777 |\n",
      "+--------------+---------+---------+----------------------+--------------------+\n"
     ]
    }
   ],
   "source": [
    "# entrenamos el uniforme con todo el dataset\n",
    "knn_uniform.fit(train[['sepal_length', 'sepal_width', 'petal_length', 'petal_width']], train['species'])\n",
    "\n",
    "# predecimos el test\n",
    "knn_uniform_pred = knn_uniform.predict(test[['sepal_length', 'sepal_width', 'petal_length', 'petal_width']])\n",
    "\n",
    "# obtenemos el accuracy\n",
    "accuracy = accuracy_score(test['species'], knn_uniform_pred, normalize=True)\n",
    "\n",
    "# Obtenemos el classification report\n",
    "print(classification_report(test_data['species'], knn_uniform_pred))\n",
    "\n",
    "# Imprimos la matriz de confusion\n",
    "cm = confusion_matrix(test_data['species'], knn_uniform_pred)\n",
    "disp = ConfusionMatrixDisplay(confusion_matrix=cm, display_labels=gnb.classes_)\n",
    "disp.plot()\n",
    "plt.show()\n",
    "\n",
    "# comparamos los resultados entre gaussianNB y knn_uniform\n",
    "table = PrettyTable()\n",
    "table.field_names = ['Clasificador', 'Vecinos', 'Pesos', 'Distribucion','Accuracy']\n",
    "table.add_row(['Naive Bayes', '-', '-', 'GaussianNB', accuaracy])\n",
    "table.add_row(['KNN', 10, 'uniform', 'KNeighborsClassifier', accuracy])\n",
    "print(table)"
   ]
  }
 ],
 "metadata": {
  "kernelspec": {
   "display_name": "Python 3",
   "language": "python",
   "name": "python3"
  },
  "language_info": {
   "codemirror_mode": {
    "name": "ipython",
    "version": 3
   },
   "file_extension": ".py",
   "mimetype": "text/x-python",
   "name": "python",
   "nbconvert_exporter": "python",
   "pygments_lexer": "ipython3",
   "version": "3.9.2"
  }
 },
 "nbformat": 4,
 "nbformat_minor": 2
}
