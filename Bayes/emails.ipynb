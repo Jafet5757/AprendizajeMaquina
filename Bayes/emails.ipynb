{
 "cells": [
  {
   "cell_type": "code",
   "execution_count": 1,
   "metadata": {},
   "outputs": [
    {
     "name": "stdout",
     "output_type": "stream",
     "text": [
      "+---------------+----------+--------------------+\n",
      "|  Clasificador | Pliegue  |     Precisión      |\n",
      "+---------------+----------+--------------------+\n",
      "|   GaussianNB  |    0     | 0.9475138121546961 |\n",
      "|   GaussianNB  |    1     | 0.9571823204419889 |\n",
      "|   GaussianNB  |    2     | 0.9502762430939227 |\n",
      "|   GaussianNB  |    3     | 0.9516574585635359 |\n",
      "|   GaussianNB  |    4     | 0.9447513812154696 |\n",
      "|   GaussianNB  | Promedio | 0.9502762430939227 |\n",
      "| MultinomialNB |    0     | 0.9516574585635359 |\n",
      "| MultinomialNB |    1     | 0.9447513812154696 |\n",
      "| MultinomialNB |    2     | 0.9433701657458563 |\n",
      "| MultinomialNB |    3     | 0.9461325966850829 |\n",
      "| MultinomialNB |    4     | 0.9433701657458563 |\n",
      "| MultinomialNB | Promedio | 0.9458563535911602 |\n",
      "+---------------+----------+--------------------+\n"
     ]
    }
   ],
   "source": [
    "from sklearn.model_selection import KFold\n",
    "from sklearn.naive_bayes import GaussianNB\n",
    "from sklearn.naive_bayes import MultinomialNB\n",
    "from sklearn.metrics import accuracy_score\n",
    "from sklearn.model_selection import train_test_split\n",
    "from prettytable import PrettyTable\n",
    "import pandas as pd\n",
    "\n",
    "# leemos el dataset\n",
    "data = pd.read_csv(\"emails.csv\")\n",
    "\n",
    "# mezclamos los datos y separamos 70% para entrenamiento y 30% para test\n",
    "train, test = train_test_split(data, test_size=0.3, random_state=0)\n",
    "\n",
    "# generamos conjuntos de validacion cruzada con k=5\n",
    "kf = KFold(n_splits=5)\n",
    "\n",
    "# inicializamos los clasificadores\n",
    "gnb = GaussianNB()\n",
    "mnb = MultinomialNB()\n",
    "\n",
    "# inicializamos las listas para guardar los resultados\n",
    "gnb_scores = []\n",
    "mnb_scores = []\n",
    "\n",
    "# iteramos sobre los conjuntos de validacion cruzada\n",
    "for train_index, val_index in kf.split(train):\n",
    "    # obtenemos los datos de entrenamiento y validacion\n",
    "    train_data, val_data = train.iloc[train_index], train.iloc[val_index]\n",
    "    # entrenamos los clasificadores con todas las columnas menos la primera (id) y ultima (prediccion)\n",
    "    gnb.fit(train_data.iloc[:, 1:-1], train_data[\"Prediction\"])\n",
    "    mnb.fit(train_data.iloc[:, 1:-1], train_data[\"Prediction\"])\n",
    "    # predecimos los datos de validacion\n",
    "    gnb_pred = gnb.predict(val_data.iloc[:, 1:-1])\n",
    "    mnb_pred = mnb.predict(val_data.iloc[:, 1:-1])\n",
    "    # calculamos la precision de los clasificadores\n",
    "    gnb_score = accuracy_score(val_data[\"Prediction\"], gnb_pred)\n",
    "    mnb_score = accuracy_score(val_data[\"Prediction\"], mnb_pred)\n",
    "    # guardamos los resultados\n",
    "    gnb_scores.append(gnb_score)\n",
    "    mnb_scores.append(mnb_score)\n",
    "\n",
    "# calculamos la precision promedio de los clasificadores\n",
    "gnb_avg_score = sum(gnb_scores) / len(gnb_scores)\n",
    "mnb_avg_score = sum(mnb_scores) / len(mnb_scores)\n",
    "\n",
    "# imprimimos los resultados en una tabla\n",
    "table = PrettyTable()\n",
    "table.field_names = [\"Clasificador\", \"Pliegue\", \"Precisión\"]\n",
    "for i in range(len(gnb_scores)):\n",
    "    table.add_row([\"GaussianNB\", i, gnb_scores[i]])\n",
    "table.add_row([\"GaussianNB\", \"Promedio\", gnb_avg_score])\n",
    "\n",
    "for i in range(len(mnb_scores)):\n",
    "    table.add_row([\"MultinomialNB\", i, mnb_scores[i]])\n",
    "table.add_row([\"MultinomialNB\", \"Promedio\", mnb_avg_score])\n",
    "\n",
    "print(table)"
   ]
  },
  {
   "cell_type": "code",
   "execution_count": 2,
   "metadata": {},
   "outputs": [
    {
     "name": "stdout",
     "output_type": "stream",
     "text": [
      "              precision    recall  f1-score   support\n",
      "\n",
      "           0       0.98      0.95      0.96      1111\n",
      "           1       0.88      0.95      0.91       441\n",
      "\n",
      "    accuracy                           0.95      1552\n",
      "   macro avg       0.93      0.95      0.94      1552\n",
      "weighted avg       0.95      0.95      0.95      1552\n",
      "\n"
     ]
    },
    {
     "data": {
      "image/png": "[encoded data removed]",
      "text/plain": [
       "<Figure size 640x480 with 2 Axes>"
      ]
     },
     "metadata": {},
     "output_type": "display_data"
    }
   ],
   "source": [
    "from sklearn.metrics import classification_report\n",
    "from sklearn.metrics import confusion_matrix\n",
    "from sklearn.metrics import ConfusionMatrixDisplay\n",
    "import matplotlib.pyplot as plt\n",
    "\n",
    "# Obtenemos la matriz de confusión de GaussianNB\n",
    "train_data, val_data = train, test\n",
    "\n",
    "# Entrenamos con todas las columnas excepto Prediction\n",
    "gnb.fit(train_data.iloc[:, 1:-1], train_data[\"Prediction\"])\n",
    "\n",
    "# Predecimos los datos de test\n",
    "gnb_pred = gnb.predict(val_data.iloc[:, 1:-1])\n",
    "\n",
    "# Imprimimos el reporte de clasificación\n",
    "print(classification_report(val_data[\"Prediction\"], gnb_pred))\n",
    "\n",
    "cm = confusion_matrix(val_data[\"Prediction\"], gnb_pred)\n",
    "disp = ConfusionMatrixDisplay(confusion_matrix=cm, display_labels=gnb.classes_)\n",
    "disp.plot()\n",
    "plt.show()"
   ]
  },
  {
   "cell_type": "code",
   "execution_count": 3,
   "metadata": {},
   "outputs": [
    {
     "name": "stdout",
     "output_type": "stream",
     "text": [
      "+--------------+--------------------+--------------+\n",
      "| Clasificador |     Precisión      | Distribución |\n",
      "+--------------+--------------------+--------------+\n",
      "|  GaussianNB  | 0.9484536082474226 |    Normal    |\n",
      "+--------------+--------------------+--------------+\n"
     ]
    }
   ],
   "source": [
    "# Calculamos el accuracy y lo mostramos en una tabla junto con el tipo de distribucion\n",
    "table = PrettyTable()\n",
    "accuracy = accuracy_score(val_data[\"Prediction\"], gnb_pred)\n",
    "table.field_names = [\"Clasificador\", \"Precisión\", \"Distribución\"]\n",
    "table.add_row([\"GaussianNB\", accuracy, \"Normal\"])\n",
    "\n",
    "print(table)"
   ]
  }
 ],
 "metadata": {
  "kernelspec": {
   "display_name": "Python 3",
   "language": "python",
   "name": "python3"
  },
  "language_info": {
   "codemirror_mode": {
    "name": "ipython",
    "version": 3
   },
   "file_extension": ".py",
   "mimetype": "text/x-python",
   "name": "python",
   "nbconvert_exporter": "python",
   "pygments_lexer": "ipython3",
   "version": "3.9.2"
  }
 },
 "nbformat": 4,
 "nbformat_minor": 2
}
