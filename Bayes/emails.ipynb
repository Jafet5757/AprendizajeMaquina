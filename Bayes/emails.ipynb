{
 "cells": [
  {
   "cell_type": "code",
   "execution_count": 2,
   "metadata": {},
   "outputs": [
    {
     "name": "stdout",
     "output_type": "stream",
     "text": [
      "+---------------+----------+--------------------+\n",
      "|  Clasificador | Pliegue  |     Precisión      |\n",
      "+---------------+----------+--------------------+\n",
      "|   GaussianNB  |    0     | 0.9475138121546961 |\n",
      "|   GaussianNB  |    1     | 0.9571823204419889 |\n",
      "|   GaussianNB  |    2     | 0.9502762430939227 |\n",
      "|   GaussianNB  |    3     | 0.9516574585635359 |\n",
      "|   GaussianNB  |    4     | 0.9447513812154696 |\n",
      "|   GaussianNB  | Promedio | 0.9502762430939227 |\n",
      "| MultinomialNB |    0     | 0.9516574585635359 |\n",
      "| MultinomialNB |    1     | 0.9447513812154696 |\n",
      "| MultinomialNB |    2     | 0.9433701657458563 |\n",
      "| MultinomialNB |    3     | 0.9461325966850829 |\n",
      "| MultinomialNB |    4     | 0.9433701657458563 |\n",
      "| MultinomialNB | Promedio | 0.9458563535911602 |\n",
      "+---------------+----------+--------------------+\n"
     ]
    }
   ],
   "source": [
    "from sklearn.model_selection import KFold\n",
    "from sklearn.naive_bayes import GaussianNB\n",
    "from sklearn.naive_bayes import MultinomialNB\n",
    "from sklearn.metrics import accuracy_score\n",
    "from sklearn.model_selection import train_test_split\n",
    "from prettytable import PrettyTable\n",
    "import pandas as pd\n",
    "\n",
    "# leemos el dataset\n",
    "data = pd.read_csv(\"emails.csv\")\n",
    "\n",
    "# mezclamos los datos y separamos 70% para entrenamiento y 30% para test\n",
    "train, test = train_test_split(data, test_size=0.3, random_state=0)\n",
    "\n",
    "# generamos conjuntos de validacion cruzada con k=5\n",
    "kf = KFold(n_splits=5)\n",
    "\n",
    "# inicializamos los clasificadores\n",
    "gnb = GaussianNB()\n",
    "mnb = MultinomialNB()\n",
    "\n",
    "# inicializamos las listas para guardar los resultados\n",
    "gnb_scores = []\n",
    "mnb_scores = []\n",
    "\n",
    "# iteramos sobre los conjuntos de validacion cruzada\n",
    "for train_index, val_index in kf.split(train):\n",
    "    # obtenemos los datos de entrenamiento y validacion\n",
    "    train_data, val_data = train.iloc[train_index], train.iloc[val_index]\n",
    "    # entrenamos los clasificadores con todas las columnas menos la primera (id) y ultima (prediccion)\n",
    "    gnb.fit(train_data.iloc[:, 1:-1], train_data[\"Prediction\"])\n",
    "    mnb.fit(train_data.iloc[:, 1:-1], train_data[\"Prediction\"])\n",
    "    # predecimos los datos de validacion\n",
    "    gnb_pred = gnb.predict(val_data.iloc[:, 1:-1])\n",
    "    mnb_pred = mnb.predict(val_data.iloc[:, 1:-1])\n",
    "    # calculamos la precision de los clasificadores\n",
    "    gnb_score = accuracy_score(val_data[\"Prediction\"], gnb_pred)\n",
    "    mnb_score = accuracy_score(val_data[\"Prediction\"], mnb_pred)\n",
    "    # guardamos los resultados\n",
    "    gnb_scores.append(gnb_score)\n",
    "    mnb_scores.append(mnb_score)\n",
    "\n",
    "# calculamos la precision promedio de los clasificadores\n",
    "gnb_avg_score = sum(gnb_scores) / len(gnb_scores)\n",
    "mnb_avg_score = sum(mnb_scores) / len(mnb_scores)\n",
    "\n",
    "# imprimimos los resultados en una tabla\n",
    "table = PrettyTable()\n",
    "table.field_names = [\"Clasificador\", \"Pliegue\", \"Precisión\"]\n",
    "for i in range(len(gnb_scores)):\n",
    "    table.add_row([\"GaussianNB\", i, gnb_scores[i]])\n",
    "table.add_row([\"GaussianNB\", \"Promedio\", gnb_avg_score])\n",
    "\n",
    "for i in range(len(mnb_scores)):\n",
    "    table.add_row([\"MultinomialNB\", i, mnb_scores[i]])\n",
    "table.add_row([\"MultinomialNB\", \"Promedio\", mnb_avg_score])\n",
    "\n",
    "print(table)"
   ]
  },
  {
   "cell_type": "code",
   "execution_count": 3,
   "metadata": {},
   "outputs": [
    {
     "name": "stdout",
     "output_type": "stream",
     "text": [
      "              precision    recall  f1-score   support\n",
      "\n",
      "           0       0.98      0.95      0.96      1111\n",
      "           1       0.88      0.95      0.91       441\n",
      "\n",
      "    accuracy                           0.95      1552\n",
      "   macro avg       0.93      0.95      0.94      1552\n",
      "weighted avg       0.95      0.95      0.95      1552\n",
      "\n"
     ]
    },
    {
     "data": {
      "image/png": "[encoded data removed]",
      "text/plain": [
       "<Figure size 640x480 with 2 Axes>"
      ]
     },
     "metadata": {},
     "output_type": "display_data"
    }
   ],
   "source": [
    "from sklearn.metrics import classification_report\n",
    "from sklearn.metrics import confusion_matrix\n",
    "from sklearn.metrics import ConfusionMatrixDisplay\n",
    "import matplotlib.pyplot as plt\n",
    "\n",
    "# Obtenemos la matriz de confusión de GaussianNB\n",
    "train_data, val_data = train, test\n",
    "\n",
    "# Entrenamos con todas las columnas excepto Prediction\n",
    "gnb.fit(train_data.iloc[:, 1:-1], train_data[\"Prediction\"])\n",
    "\n",
    "# Predecimos los datos de test\n",
    "gnb_pred = gnb.predict(val_data.iloc[:, 1:-1])\n",
    "\n",
    "# Imprimimos el reporte de clasificación\n",
    "print(classification_report(val_data[\"Prediction\"], gnb_pred))\n",
    "\n",
    "cm = confusion_matrix(val_data[\"Prediction\"], gnb_pred)\n",
    "disp = ConfusionMatrixDisplay(confusion_matrix=cm, display_labels=gnb.classes_)\n",
    "disp.plot()\n",
    "plt.show()"
   ]
  },
  {
   "cell_type": "code",
   "execution_count": 4,
   "metadata": {},
   "outputs": [
    {
     "name": "stdout",
     "output_type": "stream",
     "text": [
      "+--------------+--------------------+--------------+\n",
      "| Clasificador |     Precisión      | Distribución |\n",
      "+--------------+--------------------+--------------+\n",
      "|  GaussianNB  | 0.9484536082474226 |    Normal    |\n",
      "+--------------+--------------------+--------------+\n"
     ]
    }
   ],
   "source": [
    "# Calculamos el accuracy y lo mostramos en una tabla junto con el tipo de distribucion\n",
    "table = PrettyTable()\n",
    "accuracy = accuracy_score(val_data[\"Prediction\"], gnb_pred)\n",
    "table.field_names = [\"Clasificador\", \"Precisión\", \"Distribución\"]\n",
    "table.add_row([\"GaussianNB\", accuracy, \"Normal\"])\n",
    "\n",
    "print(table)"
   ]
  },
  {
   "cell_type": "markdown",
   "metadata": {},
   "source": [
    "# Vecinos cercanos"
   ]
  },
  {
   "cell_type": "code",
   "execution_count": 5,
   "metadata": {},
   "outputs": [
    {
     "name": "stdout",
     "output_type": "stream",
     "text": [
      "+---------+----------+----------+--------------------+\n",
      "| Vecinos |  Pesos   | Pliegue  |      Accuracy      |\n",
      "+---------+----------+----------+--------------------+\n",
      "|    1    | uniform  |    0     | 0.8566694283347142 |\n",
      "|    1    | uniform  |    1     | 0.8376139188069595 |\n",
      "|    1    | uniform  |    2     | 0.8482587064676617 |\n",
      "|    1    | uniform  | Promedio | 0.8475140178697784 |\n",
      "|    -    |    -     |    -     |         -          |\n",
      "|    10   | uniform  |    0     | 0.875724937862469  |\n",
      "|    10   | uniform  |    1     | 0.8475559237779619 |\n",
      "|    10   | uniform  |    2     | 0.8606965174129353 |\n",
      "|    10   | uniform  | Promedio | 0.8613257930177888 |\n",
      "|    -    |    -     |    -     |         -          |\n",
      "|    10   | distance |    0     | 0.8765534382767192 |\n",
      "|    10   | distance |    1     | 0.8492129246064622 |\n",
      "|    10   | distance |    2     | 0.8698175787728026 |\n",
      "|    10   | distance | Promedio | 0.8651946472186612 |\n",
      "+---------+----------+----------+--------------------+\n"
     ]
    }
   ],
   "source": [
    "from sklearn.model_selection import train_test_split\n",
    "from sklearn.neighbors import KNeighborsClassifier\n",
    "from sklearn.metrics import accuracy_score\n",
    "from sklearn.model_selection import KFold\n",
    "import pandas as pd\n",
    "\n",
    "# leemos el dataset\n",
    "data = pd.read_csv(\"emails.csv\")\n",
    "\n",
    "# mezclamos los datos y separamos 70% para entrenamiento y 30% para test\n",
    "train, test = train_test_split(data, test_size=0.3, random_state=0)\n",
    "\n",
    "# generamos conjuntos de validacion cruzada con k=3\n",
    "kf = KFold(n_splits=3)\n",
    "\n",
    "# inicializamos el clasificador\n",
    "knn_uniform = KNeighborsClassifier(n_neighbors=10, weights='uniform')\n",
    "knn_distance = KNeighborsClassifier(n_neighbors=10, weights='distance')\n",
    "knn_one = KNeighborsClassifier(n_neighbors=1)\n",
    "\n",
    "# inicializamos las listas para guardar los resultados\n",
    "uniform_scores = []\n",
    "distance_scores = []\n",
    "one_scores = []\n",
    "\n",
    "# iteramos sobre los conjuntos de validacion cruzada\n",
    "for train_index, test_index in kf.split(train):\n",
    "    # obtenemos los datos de entrenamiento y validacion\n",
    "    train_data, val_data = train.iloc[train_index], train.iloc[test_index]\n",
    "    # entrenamos el clasificador con todas las columnas menos la primera (id) y ultima (prediccion)\n",
    "    knn_uniform.fit(train_data.iloc[:, 1:-1], train_data[\"Prediction\"])\n",
    "    knn_distance.fit(train_data.iloc[:, 1:-1], train_data[\"Prediction\"])\n",
    "    knn_one.fit(train_data.iloc[:, 1:-1], train_data[\"Prediction\"])\n",
    "    # predecimos los datos de validacion\n",
    "    uniform_pred = knn_uniform.predict(val_data.iloc[:, 1:-1])\n",
    "    distance_pred = knn_distance.predict(val_data.iloc[:, 1:-1])\n",
    "    one_pred = knn_one.predict(val_data.iloc[:, 1:-1])\n",
    "    # calculamos la precision del clasificador\n",
    "    uniform_score = accuracy_score(val_data[\"Prediction\"], uniform_pred)\n",
    "    distance_score = accuracy_score(val_data[\"Prediction\"], distance_pred)\n",
    "    one_score = accuracy_score(val_data[\"Prediction\"], one_pred)\n",
    "    # guardamos los resultados\n",
    "    uniform_scores.append(uniform_score)\n",
    "    distance_scores.append(distance_score)\n",
    "    one_scores.append(one_score)\n",
    "\n",
    "# calculamos la precision promedio del clasificador\n",
    "uniform_avg_score = sum(uniform_scores) / len(uniform_scores)\n",
    "distance_avg_score = sum(distance_scores) / len(distance_scores)\n",
    "one_avg_score = sum(one_scores) / len(one_scores)\n",
    "\n",
    "# imprimimos los resultados en una tabla\n",
    "table = PrettyTable()\n",
    "table.field_names = ['Vecinos', 'Pesos', 'Pliegue', 'Accuracy']\n",
    "for i in range(len(one_scores)):\n",
    "    table.add_row([1, 'uniform', i, one_scores[i]])\n",
    "table.add_row([1, 'uniform', 'Promedio', one_avg_score])\n",
    "\n",
    "table.add_row(['-', '-', '-', '-'])\n",
    "\n",
    "for i in range(len(uniform_scores)):\n",
    "    table.add_row([10, 'uniform', i, uniform_scores[i]])\n",
    "table.add_row([10, 'uniform', 'Promedio', uniform_avg_score])\n",
    "\n",
    "table.add_row(['-', '-', '-', '-'])\n",
    "\n",
    "for i in range(len(distance_scores)):\n",
    "    table.add_row([10, 'distance', i, distance_scores[i]])\n",
    "table.add_row([10, 'distance', 'Promedio', distance_avg_score])\n",
    "\n",
    "print(table)"
   ]
  },
  {
   "cell_type": "markdown",
   "metadata": {},
   "source": [
    "Resultados de pruebas finales de ambos algoritmos"
   ]
  },
  {
   "cell_type": "code",
   "execution_count": 7,
   "metadata": {},
   "outputs": [
    {
     "name": "stdout",
     "output_type": "stream",
     "text": [
      "              precision    recall  f1-score   support\n",
      "\n",
      "           0       0.93      0.88      0.90      1111\n",
      "           1       0.74      0.83      0.78       441\n",
      "\n",
      "    accuracy                           0.87      1552\n",
      "   macro avg       0.83      0.85      0.84      1552\n",
      "weighted avg       0.87      0.87      0.87      1552\n",
      "\n"
     ]
    },
    {
     "data": {
      "image/png": "[encoded data removed]",
      "text/plain": [
       "<Figure size 640x480 with 2 Axes>"
      ]
     },
     "metadata": {},
     "output_type": "display_data"
    },
    {
     "name": "stdout",
     "output_type": "stream",
     "text": [
      "+--------------+---------+---------+--------------+--------------------+\n",
      "| Clasificador | Vecinos |  Pesos  | Distribucion |      Accuracy      |\n",
      "+--------------+---------+---------+--------------+--------------------+\n",
      "|  GaussianNB  |    -    |    -    |    Normal    | 0.9484536082474226 |\n",
      "|  KNeighbors  |    10   | uniform |   Uniform    | 0.8666237113402062 |\n",
      "+--------------+---------+---------+--------------+--------------------+\n"
     ]
    }
   ],
   "source": [
    "# Entrenamos el uniform con todo el dataset de entrenamiento\n",
    "knn_distance.fit(train.iloc[:, 1:-1], train[\"Prediction\"])\n",
    "\n",
    "# Predecimos los datos de test\n",
    "uniform_pred = knn_distance.predict(test.iloc[:, 1:-1])\n",
    "\n",
    "# calculamos la precision del clasificador\n",
    "uniform_score = accuracy_score(test[\"Prediction\"], uniform_pred)\n",
    "\n",
    "# Imprimimos el reporte de clasificación\n",
    "print(classification_report(test[\"Prediction\"], uniform_pred))\n",
    "\n",
    "cm = confusion_matrix(test[\"Prediction\"], uniform_pred)\n",
    "disp = ConfusionMatrixDisplay(confusion_matrix=cm, display_labels=gnb.classes_)\n",
    "disp.plot()\n",
    "plt.show()\n",
    "\n",
    "# comparamos los resultados entre gaussianNB y knn_uniform.\n",
    "table = PrettyTable()\n",
    "table.field_names = ['Clasificador', 'Vecinos', 'Pesos', 'Distribucion','Accuracy']\n",
    "table.add_row(['GaussianNB', '-', '-', 'Normal', accuracy])\n",
    "table.add_row(['KNeighbors', 10, 'distance', 'Distance', uniform_score])\n",
    "print(table)"
   ]
  }
 ],
 "metadata": {
  "kernelspec": {
   "display_name": "Python 3",
   "language": "python",
   "name": "python3"
  },
  "language_info": {
   "codemirror_mode": {
    "name": "ipython",
    "version": 3
   },
   "file_extension": ".py",
   "mimetype": "text/x-python",
   "name": "python",
   "nbconvert_exporter": "python",
   "pygments_lexer": "ipython3",
   "version": "3.9.2"
  }
 },
 "nbformat": 4,
 "nbformat_minor": 2
}
