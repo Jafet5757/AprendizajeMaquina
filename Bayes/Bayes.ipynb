{
 "cells": [
  {
   "cell_type": "code",
   "execution_count": 4,
   "metadata": {},
   "outputs": [
    {
     "name": "stdout",
     "output_type": "stream",
     "text": [
      "+---------------+---------+--------------------+\n",
      "|  Clasificador | Pliegue |      Accuracy      |\n",
      "+---------------+---------+--------------------+\n",
      "|   GaussianNB  |    0    | 0.8571428571428571 |\n",
      "|   GaussianNB  |    1    | 0.9523809523809523 |\n",
      "|   GaussianNB  |    2    |        1.0         |\n",
      "|   GaussianNB  |    3    |        1.0         |\n",
      "|   GaussianNB  |    4    | 0.9047619047619048 |\n",
      "|   GaussianNB  |  Media  | 0.9428571428571428 |\n",
      "|               |         |                    |\n",
      "| MultinomialNB |    0    | 0.5714285714285714 |\n",
      "| MultinomialNB |    1    | 0.7142857142857143 |\n",
      "| MultinomialNB |    2    | 0.9523809523809523 |\n",
      "| MultinomialNB |    3    | 0.6666666666666666 |\n",
      "| MultinomialNB |    4    | 0.5714285714285714 |\n",
      "| MultinomialNB |  Media  | 0.6952380952380952 |\n",
      "+---------------+---------+--------------------+\n"
     ]
    }
   ],
   "source": [
    "from sklearn.model_selection import KFold\n",
    "from sklearn.naive_bayes import GaussianNB\n",
    "from sklearn.naive_bayes import MultinomialNB\n",
    "from sklearn.metrics import accuracy_score\n",
    "from sklearn.model_selection import train_test_split\n",
    "from prettytable import PrettyTable\n",
    "import pandas as pd\n",
    "\n",
    "# Leemos el dataset\n",
    "df = pd.read_csv('iris.csv')\n",
    "\n",
    "# mezclamos los datos y seleccionamos el 70% para entrenamiento y el 30% para test\n",
    "train, test = train_test_split(df, test_size=0.3, random_state=0)\n",
    "\n",
    "# Generamos conjuntos de validación cruzada con k = 5\n",
    "kf = KFold(n_splits=5)\n",
    "\n",
    "# Inicializamos los clasificadores\n",
    "gnb = GaussianNB()\n",
    "mnb = MultinomialNB()\n",
    "\n",
    "# Inicializamos las listas para guardar los resultados\n",
    "gnb_scores = []\n",
    "mnb_scores = []\n",
    "\n",
    "# Iteramos sobre los conjuntos de validación cruzada\n",
    "for train_index, test_index in kf.split(train):\n",
    "    # Dividimos los datos en entrenamiento y test\n",
    "    train_data = train.iloc[train_index]\n",
    "    test_data = train.iloc[test_index]\n",
    "\n",
    "    # Entrenamos los clasificadores\n",
    "    gnb.fit(train_data[['sepal_length', 'sepal_width', 'petal_length', 'petal_width']], train_data['species'])\n",
    "    mnb.fit(train_data[['sepal_length', 'sepal_width', 'petal_length', 'petal_width']], train_data['species'])\n",
    "\n",
    "    # Predecimos los datos de test\n",
    "    gnb_pred = gnb.predict(test_data[['sepal_length', 'sepal_width', 'petal_length', 'petal_width']])\n",
    "    mnb_pred = mnb.predict(test_data[['sepal_length', 'sepal_width', 'petal_length', 'petal_width']])\n",
    "\n",
    "    # Calculamos la precisión de los clasificadores\n",
    "    gnb_scores.append(accuracy_score(test_data['species'], gnb_pred))\n",
    "    mnb_scores.append(accuracy_score(test_data['species'], mnb_pred))\n",
    "\n",
    "# Calculamos la precisión media de los clasificadores\n",
    "gnb_mean = sum(gnb_scores) / len(gnb_scores)\n",
    "mnb_mean = sum(mnb_scores) / len(mnb_scores)\n",
    "\n",
    "# Mostramos los resultados en una tabla\n",
    "table = PrettyTable()\n",
    "table.field_names = ['Clasificador', 'Pliegue', 'Accuracy']\n",
    "for i in range(5):\n",
    "    table.add_row(['GaussianNB', i, gnb_scores[i]])\n",
    "table.add_row(['GaussianNB', 'Media', gnb_mean])\n",
    "\n",
    "table.add_row(['', '', ''])\n",
    "for i in range(5):\n",
    "    table.add_row(['MultinomialNB', i, mnb_scores[i]])\n",
    "table.add_row(['MultinomialNB', 'Media', mnb_mean])\n",
    "\n",
    "print(table) "
   ]
  },
  {
   "cell_type": "code",
   "execution_count": 7,
   "metadata": {},
   "outputs": [
    {
     "name": "stdout",
     "output_type": "stream",
     "text": [
      "                 precision    recall  f1-score   support\n",
      "\n",
      "    Iris-setosa       1.00      1.00      1.00         6\n",
      "Iris-versicolor       1.00      0.78      0.88         9\n",
      " Iris-virginica       0.75      1.00      0.86         6\n",
      "\n",
      "       accuracy                           0.90        21\n",
      "      macro avg       0.92      0.93      0.91        21\n",
      "   weighted avg       0.93      0.90      0.91        21\n",
      "\n"
     ]
    },
    {
     "data": {
      "image/png": "[encoded data removed]",
      "text/plain": [
       "<Figure size 640x480 with 2 Axes>"
      ]
     },
     "metadata": {},
     "output_type": "display_data"
    }
   ],
   "source": [
    "from sklearn.metrics import classification_report\n",
    "from sklearn.metrics import confusion_matrix\n",
    "from sklearn.metrics import ConfusionMatrixDisplay\n",
    "import matplotlib.pyplot as plt\n",
    "\n",
    "# Obtenemos la matriz de confusión del segundo pliegue de gaussianNB\n",
    "train_data = train.iloc[train_index] # Seleccionamos el segundo pliegue\n",
    "test_data = train.iloc[test_index] # Seleccionamos el segundo pliegue\n",
    "\n",
    "gnb.fit(train_data[['sepal_length', 'sepal_width', 'petal_length', 'petal_width']], train_data['species'])\n",
    "\n",
    "gnb_pred = gnb.predict(test_data[['sepal_length', 'sepal_width', 'petal_length', 'petal_width']])\n",
    "\n",
    "print(classification_report(test_data['species'], gnb_pred))\n",
    "\n",
    "cm = confusion_matrix(test_data['species'], gnb_pred)\n",
    "disp = ConfusionMatrixDisplay(confusion_matrix=cm, display_labels=gnb.classes_)\n",
    "disp.plot()\n",
    "plt.show()"
   ]
  }
 ],
 "metadata": {
  "kernelspec": {
   "display_name": "Python 3",
   "language": "python",
   "name": "python3"
  },
  "language_info": {
   "codemirror_mode": {
    "name": "ipython",
    "version": 3
   },
   "file_extension": ".py",
   "mimetype": "text/x-python",
   "name": "python",
   "nbconvert_exporter": "python",
   "pygments_lexer": "ipython3",
   "version": "3.11.4"
  }
 },
 "nbformat": 4,
 "nbformat_minor": 2
}
