{
 "cells": [
  {
   "cell_type": "code",
   "execution_count": 46,
   "metadata": {},
   "outputs": [
    {
     "name": "stdout",
     "output_type": "stream",
     "text": [
      "train:    Terreno (m2)  Precio (MDP)\n",
      "2         381.0          0.88\n",
      "8         708.0          1.63\n",
      "4         431.0          0.99\n",
      "9         468.0          1.08\n",
      "1         616.0          1.42\n",
      "6         594.0          1.37\n",
      "7         625.0          1.44\n",
      "test:    Terreno (m2)  Precio (MDP)\n",
      "3         963.0          2.21\n",
      "0         440.0          1.01\n",
      "5         255.0          0.59\n"
     ]
    }
   ],
   "source": [
    "import pandas as pd\n",
    "import numpy as np\n",
    "import matplotlib.pyplot as plt\n",
    "\n",
    "# leemos el archivo casas.csv\n",
    "df = pd.read_csv('casas.csv')\n",
    "\n",
    "# hacemos shuffle de los datos\n",
    "df = df.sample(frac=1, random_state=0)\n",
    "\n",
    "# tomamos el 80% de los datos para entrenamiento\n",
    "train = df[:int(len(df)*0.7)]\n",
    "\n",
    "# tomamos el 30% de los datos para validación\n",
    "test = df[int(len(df)*0.7):]\n",
    "\n",
    "print('train:', (train))\n",
    "print('test:', (test))"
   ]
  },
  {
   "cell_type": "markdown",
   "metadata": {},
   "source": [
    "Creamos el algoritmo de BGD"
   ]
  },
  {
   "cell_type": "code",
   "execution_count": 50,
   "metadata": {},
   "outputs": [
    {
     "name": "stdout",
     "output_type": "stream",
     "text": [
      "iteracion 0 w: 0.10019900000000001\n",
      "iteracion 1 w: -4.15650902546\n",
      "iteracion 2 w: 176.67925993446548\n",
      "iteracion 3 w: -7505.683528336328\n",
      "iteracion 4 w: 318860.60091888916\n",
      "\n",
      "\n",
      "\n",
      "iteracion 0 y_pred: [96.491637 44.08756  25.550745]\n",
      "iteracion 1 y_pred: [-4002.71819152 -1828.8639712  -1059.90980149]\n",
      "iteracion 2 y_pred: [170142.12731689  77738.87437116  45053.21128329]\n",
      "iteracion 3 y_pred: [-7227973.23778788 -3302500.75246798 -1913949.29972576]\n",
      "iteracion 4 y_pred: [3.07062759e+08 1.40298664e+08 8.13094532e+07]\n",
      "\n",
      "\n",
      "\n",
      "iteracion 0 error: 162.31994200000003\n",
      "iteracion 1 error: 6895.30196421268\n",
      "iteracion 2 error: 292930.4029713438\n",
      "iteracion 3 error: 12444427.099981632\n",
      "iteracion 4 error: 528670872.5135183\n"
     ]
    }
   ],
   "source": [
    "w = np.zeros(len(train))\n",
    "alpha = 0.00001\n",
    "y = lambda x: w[:len(x)] * x # función de regresión lineal\n",
    "y_pred = []\n",
    "error = []\n",
    "\n",
    "# ejecutamos las iteraciones de BGD\n",
    "for i in range(5):\n",
    "    # calculamos el peso\n",
    "    w = w - alpha * 2 * np.sum((w * train['Terreno (m2)'].values - train['Precio (MDP)'].values) * train['Terreno (m2)'].values)\n",
    "    print(f'iteracion {i} w:', w[0])\n",
    "    # calculamos una predicción\n",
    "    y_pred.append(y(test['Terreno (m2)'].values))\n",
    "    # calculamos el error de estimación\n",
    "    error.append(np.sum(abs(y(test['Terreno (m2)'].values) - test['Precio (MDP)'].values)))\n",
    "\n",
    "# imprimimos y_pred\n",
    "print('\\n'*2)\n",
    "for i in range(len(y_pred)):\n",
    "    print(f'iteracion {i} y_pred:', y_pred[i])\n",
    "\n",
    "# imprimimos el error\n",
    "print('\\n'*2)\n",
    "for i in range(len(error)):\n",
    "    print(f'iteracion {i} error:', error[i])"
   ]
  },
  {
   "cell_type": "markdown",
   "metadata": {},
   "source": [
    "Hacemos la graficas"
   ]
  },
  {
   "cell_type": "code",
   "execution_count": 48,
   "metadata": {},
   "outputs": [],
   "source": [
    "# Graficamos las iteraciones y_pred\n",
    "plt.plot(test['Terreno (m2)'].values, test['Precio (MDP)'].values, 'ro')"
   ]
  }
 ],
 "metadata": {
  "kernelspec": {
   "display_name": "Python 3",
   "language": "python",
   "name": "python3"
  },
  "language_info": {
   "codemirror_mode": {
    "name": "ipython",
    "version": 3
   },
   "file_extension": ".py",
   "mimetype": "text/x-python",
   "name": "python",
   "nbconvert_exporter": "python",
   "pygments_lexer": "ipython3",
   "version": "3.11.4"
  }
 },
 "nbformat": 4,
 "nbformat_minor": 2
}
