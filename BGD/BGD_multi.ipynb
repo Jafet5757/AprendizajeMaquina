{
 "cells": [
  {
   "cell_type": "code",
   "execution_count": 23,
   "metadata": {},
   "outputs": [
    {
     "name": "stdout",
     "output_type": "stream",
     "text": [
      "tr:     x1   x2    x3    x4    x5     y\n",
      "2  1.0  0.8 -18.0  20.0  13.6  17.4\n",
      "8  1.0  2.0 -36.0  44.0  23.8  34.8\n",
      "4  1.0  1.2 -24.0  28.0  17.0  23.2\n",
      "9  1.0  2.2 -39.0  48.0  25.5  37.7\n",
      "1  1.0  0.6 -15.0  16.0  11.9  14.5\n",
      "6  1.0  1.6 -30.0  36.0  20.4  29.0\n",
      "7  1.0  1.8 -33.0  40.0  22.1  31.9\n",
      "ts:     x1   x2    x3    x4    x5     y\n",
      "3  1.0  1.0 -21.0  24.0  15.3  20.3\n",
      "0  1.0  0.4 -12.0  12.0  10.2  11.6\n",
      "5  1.0  1.4 -27.0  32.0  18.7  26.1\n"
     ]
    }
   ],
   "source": [
    "import pandas as pd\n",
    "import numpy as np\n",
    "import matplotlib.pyplot as plt\n",
    "\n",
    "# cargamos los datos\n",
    "data = pd.read_csv('Dataset_multivariable.csv')\n",
    "\n",
    "# hacemos shuffle de los datos\n",
    "data = data.sample(frac=1, random_state=0)\n",
    "\n",
    "# dividimos los datos en entrenamiento 0.7 y test 0.2\n",
    "train_data = data.iloc[:int(len(data)*0.7)]\n",
    "test_data = data.iloc[int(len(data)*0.7):]\n",
    "\n",
    "print('tr:', train_data)\n",
    "print('ts:', test_data)"
   ]
  },
  {
   "cell_type": "code",
   "execution_count": 24,
   "metadata": {},
   "outputs": [
    {
     "name": "stdout",
     "output_type": "stream",
     "text": [
      "[ 0.00377    0.0061364 -0.114666   0.137808   0.0777954]\n",
      "[ 0.00753947  0.0122707  -0.21573032  0.25197917  0.15133254]\n",
      "[ 0.01130842  0.01840291 -0.30480639  0.3465677   0.22084452]\n",
      "[ 0.01507683  0.02453303 -0.38331625  0.42493241  0.28655164]\n",
      "[ 0.01884472  0.03066105 -0.45251328  0.489856    0.34866218]\n",
      "\n",
      "[6.91555402 3.82942564 8.97297294]\n",
      "[12.91303493  7.1685536  16.74268915]\n",
      "[18.12719148 10.08777275 23.48680396]\n",
      "[22.67186914 12.64670074 29.35531474]\n",
      "[26.64336005 14.89589475 34.47500358]\n",
      "\n",
      "12.760682466666665\n",
      "7.058574108131452\n",
      "2.0994106025476973\n",
      "2.2246282096720544\n",
      "6.004752791223908\n",
      "\n"
     ]
    }
   ],
   "source": [
    "numero_variables = train_data.shape[1] - 1\n",
    "w = np.zeros(numero_variables)\n",
    "alpha = 0.00001\n",
    "y = lambda x: np.dot(w, x)\n",
    "y_pred = [] # predicciones\n",
    "error = [] # errores\n",
    "ws = [] # pesos\n",
    "\n",
    "# entrenamiento\n",
    "for i in range(5):\n",
    "  # calculamos los pesos\n",
    "  for column in range(numero_variables):\n",
    "    w[column] = w[column] - 2*alpha * np.dot(w[column]*train_data.iloc[:, column] - train_data.iloc[:, numero_variables], train_data.iloc[:, column])\n",
    "  ws.append(w.copy())\n",
    "  # calculamos una predicción\n",
    "  y_pred.append(y(test_data.iloc[:, :numero_variables].T.values))\n",
    "  # calculamos el error\n",
    "  error.append(np.mean(abs(y_pred[-1] - test_data.iloc[:, numero_variables])))\n",
    "\n",
    "# pintamos los pesos\n",
    "print(*ws, end='\\n\\n', sep='\\n')\n",
    "\n",
    "# pintamos las predicciones\n",
    "print(*y_pred, end='\\n\\n', sep='\\n')\n",
    "\n",
    "# pintamos los errores\n",
    "print(*error, end='\\n\\n', sep='\\n')"
   ]
  },
  {
   "cell_type": "markdown",
   "metadata": {},
   "source": [
    "Ploteamos los resultados"
   ]
  },
  {
   "cell_type": "code",
   "execution_count": 25,
   "metadata": {},
   "outputs": [
    {
     "data": {
      "image/png": "[encoded data removed]",
      "text/plain": [
       "<Figure size 640x480 with 1 Axes>"
      ]
     },
     "metadata": {},
     "output_type": "display_data"
    }
   ],
   "source": [
    "# graficamos el error de estimación\n",
    "plt.plot(range(len(error)), error, 'o-', c='r')\n",
    "plt.xlabel('Iteraciones')\n",
    "plt.ylabel('Error')\n",
    "plt.title('Error de estimación')\n",
    "plt.show()"
   ]
  }
 ],
 "metadata": {
  "kernelspec": {
   "display_name": "Python 3",
   "language": "python",
   "name": "python3"
  },
  "language_info": {
   "codemirror_mode": {
    "name": "ipython",
    "version": 3
   },
   "file_extension": ".py",
   "mimetype": "text/x-python",
   "name": "python",
   "nbconvert_exporter": "python",
   "pygments_lexer": "ipython3",
   "version": "3.11.4"
  }
 },
 "nbformat": 4,
 "nbformat_minor": 2
}
