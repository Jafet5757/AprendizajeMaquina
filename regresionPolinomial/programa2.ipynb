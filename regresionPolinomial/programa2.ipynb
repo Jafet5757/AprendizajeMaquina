{
 "cells": [
  {
   "cell_type": "code",
   "execution_count": 11,
   "metadata": {},
   "outputs": [
    {
     "name": "stdout",
     "output_type": "stream",
     "text": [
      "Train:        longitude  latitude  housingMedianAge  totalRooms  totalBedrooms  \\\n",
      "12069    -117.55     33.83               6.0       502.0           76.0   \n",
      "15925    -122.44     37.73              52.0      2381.0          492.0   \n",
      "11162    -118.00     33.83              26.0      1718.0          385.0   \n",
      "4904     -118.26     34.01              38.0       697.0          208.0   \n",
      "4683     -118.36     34.08              52.0      2373.0          601.0   \n",
      "...          ...       ...               ...         ...            ...   \n",
      "13123    -121.26     38.27              20.0      1314.0          229.0   \n",
      "19648    -120.89     37.48              27.0      1118.0          195.0   \n",
      "9845     -121.90     36.58              31.0      1431.0          370.0   \n",
      "10799    -117.93     33.62              34.0      2125.0          498.0   \n",
      "2732     -115.56     32.80              15.0      1171.0          328.0   \n",
      "\n",
      "       population  households  medianIncome  medianHouseValue  \n",
      "12069       228.0        65.0        4.2386          500001.0  \n",
      "15925      1485.0       447.0        4.3898          270000.0  \n",
      "11162      1022.0       368.0        3.9333          196100.0  \n",
      "4904        749.0       206.0        1.4653          118800.0  \n",
      "4683       1135.0       576.0        3.1765          225000.0  \n",
      "...           ...         ...           ...               ...  \n",
      "13123       712.0       219.0        4.4125          144600.0  \n",
      "19648       647.0       209.0        2.9135          159400.0  \n",
      "9845        704.0       393.0        3.1977          289300.0  \n",
      "10799      1052.0       468.0        5.6315          484600.0  \n",
      "2732       1024.0       298.0        1.3882           69400.0  \n",
      "\n",
      "[16512 rows x 9 columns]\n",
      "Test:        longitude  latitude  housingMedianAge  totalRooms  totalBedrooms  \\\n",
      "14740    -117.05     32.58              22.0      2101.0          399.0   \n",
      "10101    -117.97     33.92              32.0      2620.0          398.0   \n",
      "20566    -121.84     38.65              29.0      3167.0          548.0   \n",
      "2670     -115.60     33.20              37.0       709.0          187.0   \n",
      "15709    -122.43     37.79              25.0      1637.0          394.0   \n",
      "...          ...       ...               ...         ...            ...   \n",
      "6655     -118.13     34.16              33.0      2682.0          716.0   \n",
      "3505     -118.45     34.25              36.0      1453.0          270.0   \n",
      "1919     -120.92     38.86              11.0      1720.0          345.0   \n",
      "1450     -121.95     37.96              18.0      2739.0          393.0   \n",
      "4148     -118.20     34.12              52.0      1580.0          426.0   \n",
      "\n",
      "       population  households  medianIncome  medianHouseValue  \n",
      "14740      1551.0       371.0        4.1518          136900.0  \n",
      "10101      1296.0       429.0        5.7796          241300.0  \n",
      "20566      1554.0       534.0        4.3487          200700.0  \n",
      "2670        390.0       142.0        2.4511           72500.0  \n",
      "15709       649.0       379.0        5.0049          460000.0  \n",
      "...           ...         ...           ...               ...  \n",
      "6655       2050.0       692.0        2.4817          169500.0  \n",
      "3505        808.0       275.0        4.3839          204600.0  \n",
      "1919        850.0       326.0        3.2027          128600.0  \n",
      "1450       1072.0       374.0        6.1436          259500.0  \n",
      "4148       1462.0       406.0        3.3326          167600.0  \n",
      "\n",
      "[4128 rows x 9 columns]\n"
     ]
    }
   ],
   "source": [
    "from sklearn.model_selection import train_test_split\n",
    "import pandas as pd\n",
    "\n",
    "df = pd.read_csv('cal_housing.csv')\n",
    "\n",
    "# inicializamos variables de error\n",
    "mse = []\n",
    "r2 = []\n",
    "\n",
    "# dividimos el dataset 80% entrenamiento y 20% test\n",
    "train, test = train_test_split(df, test_size=0.2, random_state=0)\n",
    "\n",
    "print('Train:', train)\n",
    "print('Test:', test)"
   ]
  },
  {
   "cell_type": "markdown",
   "metadata": {},
   "source": [
    "Regresion lineal OSL"
   ]
  },
  {
   "cell_type": "code",
   "execution_count": 12,
   "metadata": {},
   "outputs": [],
   "source": [
    "import matplotlib.pyplot as plt\n",
    "from sklearn.linear_model import LinearRegression\n",
    "from sklearn.preprocessing import PolynomialFeatures\n",
    "from sklearn.metrics import mean_squared_error, r2_score\n",
    "\n",
    "# dividimos el dataset en variables independientes y dependientes\n",
    "# independientes: longitude,latitude,housingMedianAge,totalRooms,totalBedrooms,population,households,medianIncome\n",
    "X_train = train[['longitude', 'latitude', 'housingMedianAge', 'totalRooms', 'totalBedrooms', 'population', 'households', 'medianIncome']]\n",
    "X_test = test[['longitude', 'latitude', 'housingMedianAge', 'totalRooms', 'totalBedrooms', 'population', 'households', 'medianIncome']]\n",
    "\n",
    "# dependiente: medianHouseValue\n",
    "y_train = train['medianHouseValue']\n",
    "y_test = test['medianHouseValue']\n",
    "\n",
    "# creamos el modelo de regresión lineal\n",
    "model = LinearRegression()\n",
    "model.fit(X_train, y_train)\n",
    "\n",
    "# predecimos los valores de test\n",
    "y_pred = model.predict(X_test)\n",
    "\n",
    "# calculamos el error cuadrático medio\n",
    "mse.append(mean_squared_error(y_test, y_pred))\n",
    "# calculamos el coeficiente de determinación\n",
    "r2.append(r2_score(y_test, y_pred))"
   ]
  },
  {
   "cell_type": "markdown",
   "metadata": {},
   "source": [
    "Polinomial de grado 2"
   ]
  },
  {
   "cell_type": "code",
   "execution_count": 13,
   "metadata": {},
   "outputs": [],
   "source": [
    "poly = PolynomialFeatures(degree=2)\n",
    "\n",
    "X_train_poly = poly.fit_transform(X_train)\n",
    "X_test_poly = poly.fit_transform(X_test)\n",
    "\n",
    "model.fit(X_train_poly, y_train)\n",
    "\n",
    "y_pred = model.predict(X_test_poly)\n",
    "\n",
    "mse.append(mean_squared_error(y_test, y_pred))\n",
    "r2.append(r2_score(y_test, y_pred))"
   ]
  },
  {
   "cell_type": "markdown",
   "metadata": {},
   "source": [
    "Polinomial de grado 2 con escalamiento estandar"
   ]
  },
  {
   "cell_type": "code",
   "execution_count": 14,
   "metadata": {},
   "outputs": [],
   "source": [
    "# Polinomial de grado 2 con escalamiento estandar\n",
    "poly = PolynomialFeatures(degree=2)\n",
    "\n",
    "X_train_poly = poly.fit_transform(X_train)\n",
    "X_test_poly = poly.fit_transform(X_test)\n",
    "\n",
    "from sklearn.preprocessing import StandardScaler\n",
    "\n",
    "scaler = StandardScaler()\n",
    "\n",
    "X_train_poly = scaler.fit_transform(X_train_poly)\n",
    "X_test_poly = scaler.fit_transform(X_test_poly)\n",
    "\n",
    "model.fit(X_train_poly, y_train)\n",
    "\n",
    "y_pred = model.predict(X_test_poly)\n",
    "\n",
    "mse.append(mean_squared_error(y_test, y_pred))\n",
    "r2.append(r2_score(y_test, y_pred))"
   ]
  },
  {
   "cell_type": "markdown",
   "metadata": {},
   "source": [
    "Polinomial de grado 2 con escalamiento robusto"
   ]
  },
  {
   "cell_type": "code",
   "execution_count": 15,
   "metadata": {},
   "outputs": [],
   "source": [
    "# Polinomial de grado 2 con escalamiento robusto\n",
    "poly = PolynomialFeatures(degree=2)\n",
    "\n",
    "X_train_poly = poly.fit_transform(X_train)\n",
    "X_test_poly = poly.fit_transform(X_test)\n",
    "\n",
    "from sklearn.preprocessing import RobustScaler\n",
    "\n",
    "scaler = RobustScaler()\n",
    "\n",
    "X_train_poly = scaler.fit_transform(X_train_poly)\n",
    "X_test_poly = scaler.fit_transform(X_test_poly)\n",
    "\n",
    "model.fit(X_train_poly, y_train)\n",
    "\n",
    "y_pred = model.predict(X_test_poly)\n",
    "\n",
    "mse.append(mean_squared_error(y_test, y_pred))\n",
    "r2.append(r2_score(y_test, y_pred))"
   ]
  },
  {
   "cell_type": "markdown",
   "metadata": {},
   "source": [
    "Polinomial de grado 3"
   ]
  },
  {
   "cell_type": "code",
   "execution_count": 16,
   "metadata": {},
   "outputs": [],
   "source": [
    "# Polinomial de grado 3\n",
    "poly = PolynomialFeatures(degree=3)\n",
    "\n",
    "X_train_poly = poly.fit_transform(X_train)\n",
    "X_test_poly = poly.fit_transform(X_test)\n",
    "\n",
    "model.fit(X_train_poly, y_train)\n",
    "\n",
    "y_pred = model.predict(X_test_poly)\n",
    "\n",
    "mse.append(mean_squared_error(y_test, y_pred))\n",
    "r2.append(r2_score(y_test, y_pred))"
   ]
  },
  {
   "cell_type": "markdown",
   "metadata": {},
   "source": [
    "Polinomial de grado 3 con escalamiento estandar"
   ]
  },
  {
   "cell_type": "code",
   "execution_count": 17,
   "metadata": {},
   "outputs": [],
   "source": [
    "# Polinomial de grado 3 con escalamiento estandar\n",
    "\n",
    "poly = PolynomialFeatures(degree=3)\n",
    "\n",
    "X_train_poly = poly.fit_transform(X_train)\n",
    "X_test_poly = poly.fit_transform(X_test)\n",
    "\n",
    "scaler = StandardScaler()\n",
    "\n",
    "X_train_poly = scaler.fit_transform(X_train_poly)\n",
    "X_test_poly = scaler.fit_transform(X_test_poly)\n",
    "\n",
    "model.fit(X_train_poly, y_train)\n",
    "\n",
    "y_pred = model.predict(X_test_poly)\n",
    "\n",
    "mse.append(mean_squared_error(y_test, y_pred))\n",
    "r2.append(r2_score(y_test, y_pred))"
   ]
  },
  {
   "cell_type": "markdown",
   "metadata": {},
   "source": [
    "Polinomial de grado 3 con escalamiento robusto"
   ]
  },
  {
   "cell_type": "code",
   "execution_count": 18,
   "metadata": {},
   "outputs": [],
   "source": [
    "# Polinomial de grado 3 con escalamiento robusto\n",
    "poly = PolynomialFeatures(degree=3)\n",
    "\n",
    "X_train_poly = poly.fit_transform(X_train)\n",
    "X_test_poly = poly.fit_transform(X_test)\n",
    "\n",
    "scaler = RobustScaler()\n",
    "\n",
    "X_train_poly = scaler.fit_transform(X_train_poly)\n",
    "X_test_poly = scaler.fit_transform(X_test_poly)\n",
    "\n",
    "model.fit(X_train_poly, y_train)\n",
    "\n",
    "y_pred = model.predict(X_test_poly)\n",
    "\n",
    "mse.append(mean_squared_error(y_test, y_pred))\n",
    "r2.append(r2_score(y_test, y_pred))"
   ]
  },
  {
   "cell_type": "markdown",
   "metadata": {},
   "source": [
    "Imprimimos los errores"
   ]
  },
  {
   "cell_type": "code",
   "execution_count": 19,
   "metadata": {},
   "outputs": [
    {
     "name": "stdout",
     "output_type": "stream",
     "text": [
      "+-------------------------------------------------+--------------------+--------------------+\n",
      "|                      Modelo                     |        MSE         |         R2         |\n",
      "+-------------------------------------------------+--------------------+--------------------+\n",
      "|                      Lineal                     | 4853781771.947948  | 0.6277645980446465 |\n",
      "|              Polinomial de grado 2              | 4076152868.8610454 | 0.6874007788440328 |\n",
      "| Polinomial de grado 2 con escalamiento estandar | 4111950340.711753  | 0.6846554790037425 |\n",
      "|  Polinomial de grado 2 con escalamiento robusto | 5047513814.4369755 | 0.6129073324946559 |\n",
      "|              Polinomial de grado 3              | 4126883196.3431244 | 0.6835102817576671 |\n",
      "| Polinomial de grado 3 con escalamiento estandar | 8862039817.975636  | 0.320372215155312  |\n",
      "|  Polinomial de grado 3 con escalamiento robusto | 8684145317087.225  | -664.9850966986016 |\n",
      "+-------------------------------------------------+--------------------+--------------------+\n"
     ]
    }
   ],
   "source": [
    "# Mostramos los resultados\n",
    "from prettytable import PrettyTable\n",
    "\n",
    "table = PrettyTable()\n",
    "\n",
    "table.field_names = ['Modelo', 'MSE', 'R2']\n",
    "\n",
    "table.add_row(['Lineal', mse[0], r2[0]])\n",
    "table.add_row(['Polinomial de grado 2', mse[1], r2[1]])\n",
    "table.add_row(['Polinomial de grado 2 con escalamiento estandar', mse[2], r2[2]])\n",
    "table.add_row(['Polinomial de grado 2 con escalamiento robusto', mse[3], r2[3]])\n",
    "table.add_row(['Polinomial de grado 3', mse[4], r2[4]])\n",
    "table.add_row(['Polinomial de grado 3 con escalamiento estandar', mse[5], r2[5]])\n",
    "table.add_row(['Polinomial de grado 3 con escalamiento robusto', mse[6], r2[6]])\n",
    "\n",
    "print(table)"
   ]
  }
 ],
 "metadata": {
  "kernelspec": {
   "display_name": "Python 3",
   "language": "python",
   "name": "python3"
  },
  "language_info": {
   "codemirror_mode": {
    "name": "ipython",
    "version": 3
   },
   "file_extension": ".py",
   "mimetype": "text/x-python",
   "name": "python",
   "nbconvert_exporter": "python",
   "pygments_lexer": "ipython3",
   "version": "3.11.4"
  }
 },
 "nbformat": 4,
 "nbformat_minor": 2
}
